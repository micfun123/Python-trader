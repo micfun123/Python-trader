{
 "cells": [
  {
   "cell_type": "code",
   "execution_count": null,
   "metadata": {},
   "outputs": [],
   "source": [
    "import requests\n",
    "import pandas as pd\n",
    "import numpy as np\n",
    "import matplotlib.pyplot as plt\n",
    "import os\n",
    "from dotenv import load_dotenv\n",
    "load_dotenv()\n"
   ]
  },
  {
   "cell_type": "code",
   "execution_count": null,
   "metadata": {},
   "outputs": [],
   "source": [
    "\n",
    "# Load API key from .env file\n",
    "api_key = os.getenv('COINBASE_API_KEY')\n",
    "\n",
    "# Parameters\n",
    "short_term_window = 7\n",
    "long_term_window = 25\n",
    "symbol = 'BTC-USD'  # Example: Bitcoin to USD\n"
   ]
  },
  {
   "cell_type": "code",
   "execution_count": 1,
   "metadata": {},
   "outputs": [
    {
     "ename": "NameError",
     "evalue": "name 'symbol' is not defined",
     "output_type": "error",
     "traceback": [
      "\u001b[31m---------------------------------------------------------------------------\u001b[39m",
      "\u001b[31mNameError\u001b[39m                                 Traceback (most recent call last)",
      "\u001b[36mCell\u001b[39m\u001b[36m \u001b[39m\u001b[32mIn[1]\u001b[39m\u001b[32m, line 1\u001b[39m\n\u001b[32m----> \u001b[39m\u001b[32m1\u001b[39m url = \u001b[33mf\u001b[39m\u001b[33m\"\u001b[39m\u001b[33mhttps://api.coinbase.com/api/v3/brokerage/products/:\u001b[39m\u001b[38;5;132;01m{\u001b[39;00m\u001b[43msymbol\u001b[49m\u001b[38;5;132;01m}\u001b[39;00m\u001b[33m/candles?granularity=86400&start=2023-01-01T00:00:00Z&end=2023-12-31T00:00:00Z\u001b[39m\u001b[33m\"\u001b[39m\n\u001b[32m      3\u001b[39m response = requests.get(url, headers={\u001b[33m\"\u001b[39m\u001b[33mAuthorization\u001b[39m\u001b[33m\"\u001b[39m: \u001b[33mf\u001b[39m\u001b[33m\"\u001b[39m\u001b[33mBearer \u001b[39m\u001b[38;5;132;01m{\u001b[39;00mapi_key\u001b[38;5;132;01m}\u001b[39;00m\u001b[33m\"\u001b[39m})\n\u001b[32m      4\u001b[39m \u001b[38;5;28;01mif\u001b[39;00m response.status_code == \u001b[32m200\u001b[39m:\n",
      "\u001b[31mNameError\u001b[39m: name 'symbol' is not defined"
     ]
    }
   ],
   "source": [
    "url = f\"https://api.coinbase.com/api/v3/brokerage/products/:{symbol}/candles?granularity=86400&start=2023-01-01T00:00:00Z&end=2023-12-31T00:00:00Z\"\n",
    "\n",
    "response = requests.get(url, headers={\"Authorization\": f\"Bearer {api_key}\"})\n",
    "if response.status_code == 200:\n",
    "    data = response.json()\n",
    "    prices = pd.DataFrame(data['prices'])\n",
    "else:\n",
    "    print(f\"Error fetching data: {response.status_code}\")\n",
    "    exit()\n",
    "\n"
   ]
  },
  {
   "cell_type": "code",
   "execution_count": null,
   "metadata": {},
   "outputs": [],
   "source": [
    "def graph_data(df):\n",
    "    df['short_mavg'] = df['close'].rolling(window=short_term_window).mean()\n",
    "    df['long_mavg'] = df['close'].rolling(window=long_term_window).mean()\n",
    "\n",
    "    plt.figure(figsize=(14, 7))\n",
    "    plt.plot(df.index, df['close'], label='Price', color='blue')\n",
    "    plt.plot(df.index, df['short_mavg'], label=f'{short_term_window}-Day MA', color='red')\n",
    "    plt.plot(df.index, df['long_mavg'], label=f'{long_term_window}-Day MA', color='green')\n",
    "    \n",
    "    plt.title(f'{product_id} Price and Moving Averages')\n",
    "    plt.xlabel('Date')\n",
    "    plt.ylabel('Price (USD)')\n",
    "    plt.legend()\n",
    "    plt.grid()\n",
    "    plt.show()\n",
    "\n",
    "    \n"
   ]
  }
 ],
 "metadata": {
  "kernelspec": {
   "display_name": "Python 3",
   "language": "python",
   "name": "python3"
  },
  "language_info": {
   "codemirror_mode": {
    "name": "ipython",
    "version": 3
   },
   "file_extension": ".py",
   "mimetype": "text/x-python",
   "name": "python",
   "nbconvert_exporter": "python",
   "pygments_lexer": "ipython3",
   "version": "3.11.9"
  }
 },
 "nbformat": 4,
 "nbformat_minor": 2
}
